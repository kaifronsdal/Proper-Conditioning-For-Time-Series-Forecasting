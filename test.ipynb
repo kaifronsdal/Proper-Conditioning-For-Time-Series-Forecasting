{
 "cells": [
  {
   "cell_type": "code",
   "execution_count": 271,
   "id": "ea123b1b-167f-4a57-9a95-67344cddac12",
   "metadata": {},
   "outputs": [],
   "source": [
    "from dataclasses import dataclass, field\n",
    "from darts.datasets.dataset_loaders import DatasetLoader\n",
    "from typing import Optional\n",
    "from pathlib import Path\n",
    "import pickle\n",
    "\n",
    "from darts.dataprocessing.transformers import Scaler, MissingValuesFiller\n",
    "from darts.dataprocessing import Pipeline\n",
    "\n",
    "from darts.datasets import (\n",
    "    ElectricityDataset,\n",
    "    AirPassengersDataset,\n",
    "    EnergyDataset,\n",
    "    ExchangeRateDataset,\n",
    "    ILINetDataset,\n",
    "    TrafficDataset,\n",
    "    UberTLCDataset,\n",
    "    WeatherDataset,\n",
    "    ETTm1Dataset,\n",
    "    ETTm2Dataset\n",
    ")\n",
    "\n",
    "@dataclass\n",
    "class Dataset:\n",
    "    source: DatasetLoader\n",
    "    split: list\n",
    "    loader_params: dict = field(default_factory=dict)\n",
    "    preprocessing: Optional[list] = None\n",
    "    encoders: dict = field(default_factory=dict)\n",
    "\n",
    "def get_scaler():\n",
    "    return Scaler()\n",
    "\n",
    "def get_missing_filler():\n",
    "    return MissingValuesFiller()\n",
    "\n",
    "def get_scaler_missing():\n",
    "    return Pipeline([MissingValuesFiller(), Scaler()])\n",
    "\n",
    "dataset_map = {\n",
    "    'electricity': Dataset(\n",
    "        source=ElectricityDataset,\n",
    "        split=[],\n",
    "        loader_params={'multivariate': True},\n",
    "        encoders= {\n",
    "            'cyclic': {'past': ['month', 'dayofyear', 'dayofweek', 'hour']},\n",
    "            'datetime_attribute': {'past': ['year', 'month']},\n",
    "            # 'transformer': get_scaler(),\n",
    "        }\n",
    "    ),\n",
    "    'exchange': Dataset(\n",
    "        source=ExchangeRateDataset,\n",
    "        split=[],\n",
    "        loader_params={'multivariate': True},\n",
    "        encoders= {\n",
    "            'cyclic': {'past': ['month', 'dayofyear', 'dayofweek', 'hour']},\n",
    "            'datetime_attribute': {'past': ['year', 'month']},\n",
    "            # 'transformer': get_scaler(),\n",
    "        }\n",
    "    ),\n",
    "    'ili': Dataset(\n",
    "        source=ILINetDataset,\n",
    "        split=[],\n",
    "        loader_params={'multivariate': True},\n",
    "        encoders= {\n",
    "            'cyclic': {'past': ['month', 'dayofyear', 'dayofweek', 'hour']},\n",
    "            'datetime_attribute': {'past': ['year', 'month']},\n",
    "            # 'transformer': get_scaler(),\n",
    "        }\n",
    "    ),\n",
    "    'traffic': Dataset(\n",
    "        source=TrafficDataset,\n",
    "        split=[],\n",
    "        loader_params={'multivariate': True},\n",
    "        encoders= {\n",
    "            'cyclic': {'past': ['month', 'dayofyear', 'dayofweek', 'hour']},\n",
    "            'datetime_attribute': {'past': ['year', 'month']},\n",
    "            # 'transformer': get_scaler(),\n",
    "        }\n",
    "    ),\n",
    "    'uber': Dataset(\n",
    "        source=UberTLCDataset,\n",
    "        split=[],\n",
    "        loader_params={'multivariate': True},\n",
    "        encoders= {\n",
    "            'cyclic': {'past': ['month', 'dayofyear', 'dayofweek', 'hour']},\n",
    "            'datetime_attribute': {'past': ['year', 'month']},\n",
    "            # 'transformer': get_scaler(),\n",
    "        }\n",
    "    ),\n",
    "    'weather': Dataset(\n",
    "        source=WeatherDataset,\n",
    "        split=[],\n",
    "        loader_params={'multivariate': True},\n",
    "        encoders= {\n",
    "            'cyclic': {'past': ['month', 'dayofyear', 'dayofweek', 'hour']},\n",
    "            'datetime_attribute': {'past': ['year', 'month']},\n",
    "            # 'transformer': get_scaler(),\n",
    "        }\n",
    "    ),\n",
    "    'ettm1': Dataset(\n",
    "        source=ETTm1Dataset,\n",
    "        split=[],\n",
    "        encoders= {\n",
    "            'cyclic': {'past': ['month', 'dayofyear', 'dayofweek', 'hour']},\n",
    "            'datetime_attribute': {'past': ['year', 'month']},\n",
    "            # 'transformer': get_scaler(),\n",
    "        }\n",
    "    ),\n",
    "    'ettm2': Dataset(\n",
    "        source=ETTm2Dataset,\n",
    "        split=[],\n",
    "        encoders= {\n",
    "            'cyclic': {'past': ['month', 'dayofyear', 'dayofweek', 'hour']},\n",
    "            'datetime_attribute': {'past': ['year', 'month']},\n",
    "            # 'transformer': get_scaler(),\n",
    "        }\n",
    "    ),\n",
    "    'airpassenger': Dataset(\n",
    "        source=AirPassengersDataset,\n",
    "        split=[],\n",
    "        encoders= {\n",
    "            'cyclic': {'past': ['month']},\n",
    "            'datetime_attribute': {'past': ['year']},\n",
    "            # 'transformer': get_scaler(),\n",
    "        }\n",
    "    ),\n",
    "    # 'energy': Dataset(\n",
    "    #     source=EnergyDataset,\n",
    "    #     split=[],\n",
    "    #     encoders= {\n",
    "    #         'cyclic': {'past': ['month', 'dayofyear', 'dayofweek', 'hour']},\n",
    "    #         'datetime_attribute': {'past': ['year', 'month']},\n",
    "    #         # 'transformer': get_scaler(),\n",
    "    #     }\n",
    "    # ),\n",
    "}\n",
    "\n",
    "\n",
    "def get_data(dataset: str, cache_path):\n",
    "    data_meta = dataset_map[dataset]\n",
    "\n",
    "    cache_path = Path(cache_path) / f\"{dataset}.pkl\"\n",
    "    \n",
    "    if cache_path.exists():  # Data already exists in the cache.\n",
    "        with open(cache_path, \"rb\") as f:\n",
    "            data = pickle.load(f)\n",
    "    else:  # Data needs to be downloaded/generated.\n",
    "        data = data_meta.source(**data_meta.loader_params).load()\n",
    "\n",
    "        # if data_meta.loader_params.get('multivariate', False) and not isinstance(data, list):\n",
    "        if not isinstance(data, list):\n",
    "            data = [data[component] for component in data.components]\n",
    "\n",
    "        if isinstance(data, list):\n",
    "            for i, d in enumerate(data):\n",
    "                if np.any(np.isnan(d.values())):\n",
    "                    filler = MissingValuesFiller()\n",
    "                    data[i] = filler.transform(d)\n",
    "\n",
    "        else:\n",
    "           if np.any(np.isnan(data.values())):\n",
    "               filler = MissingValuesFiller()\n",
    "               data = filler.transform(data)\n",
    "        \n",
    "        # Saving data to cache.\n",
    "        cache_path.parent.mkdir(parents=True, exist_ok=True)\n",
    "        print(cache_path)\n",
    "        with open(cache_path, \"wb\") as f:\n",
    "            pickle.dump(data, f)\n",
    "\n",
    "    if not isinstance(data, list):\n",
    "        data = [data]\n",
    "\n",
    "    mins, maxs = [], []\n",
    "    for i, d in enumerate(data):\n",
    "        m = d.min(axis=0).values().item()\n",
    "        M = d.max(axis=0).values().item()\n",
    "        mins.append(m)\n",
    "        maxs.append(M)\n",
    "\n",
    "        data[i] = (d - m) / (M - m)\n",
    "        \n",
    "    return data, data_meta.encoders, (mins, maxs)"
   ]
  },
  {
   "cell_type": "code",
   "execution_count": 218,
   "id": "69306f2c-081b-439a-bef7-2c83613095eb",
   "metadata": {},
   "outputs": [],
   "source": [
    "from darts.datasets.dataset_loaders import DatasetLoader"
   ]
  },
  {
   "cell_type": "code",
   "execution_count": 282,
   "id": "74d76e9e-353b-4f9d-8732-df9ce090aa60",
   "metadata": {},
   "outputs": [],
   "source": [
    "data, encoders, m = get_data('ili', '/lfs/turing3/0/kaif/GitHub/ts/data/cache')\n",
    "\n",
    "# import numpy as np\n",
    "# for k in dataset_map.keys():\n",
    "#     data, encoders = get_data(k, '/lfs/turing3/0/kaif/GitHub/ts/data/cache')\n",
    "#     if not isinstance(data, list):\n",
    "#         data = [data]\n",
    "\n",
    "#     for d in data:\n",
    "#         if np.any(np.isnan(d.values())):\n",
    "#             print(k)\n",
    "#             break"
   ]
  },
  {
   "cell_type": "code",
   "execution_count": 202,
   "id": "4bd8689e-cc7f-41f5-9fd9-bab10e0df5e8",
   "metadata": {},
   "outputs": [
    {
     "data": {
      "text/plain": [
       "True"
      ]
     },
     "execution_count": 202,
     "metadata": {},
     "output_type": "execute_result"
    }
   ],
   "source": [
    "import numpy as np\n",
    "np.any(np.isnan(data[0].values()))"
   ]
  },
  {
   "cell_type": "code",
   "execution_count": null,
   "id": "e3b7c3a6-febb-4ea7-83c8-96b66da68931",
   "metadata": {},
   "outputs": [],
   "source": [
    "from darts.dataprocessing.transformers import Scaler, MissingValuesFiller\n",
    "from darts.dataprocessing.encoders import SequentialEncoder, PastDatetimeAttributeEncoder\n",
    "\n",
    "add_encoders = {\n",
    "    'cyclic': {'future': ['month']},\n",
    "    'datetime_attribute': {'future': ['year']},\n",
    "    'transformer': Scaler(),\n",
    "}\n",
    "\n",
    "# encoder = SequentialEncoder(add_encoders,\n",
    "#                             input_chunk_length=24, \n",
    "#                             output_chunk_length=12,\n",
    "#                             lags_past_covariates=None,\n",
    "#                             lags_future_covariates=None,\n",
    "#                             takes_past_covariates=False,\n",
    "#                             takes_future_covariates=True\n",
    "#                            )\n",
    "from darts.dataprocessing import Pipeline\n",
    "\n",
    "encoder = PastDatetimeAttributeEncoder(\n",
    "    input_chunk_length=24,\n",
    "    output_chunk_length=12,\n",
    "    attribute='month',\n",
    ")\n",
    "\n",
    "# scaler = Scaler()\n",
    "\n",
    "# pipeline = Pipeline([encoder, scaler])\n",
    "\n",
    "# data_aug = pipeline.fit_transform(data)\n",
    "# data_aug = (data[0] / 400).add_datetime_attribute(\"month\", cyclic=True)\n",
    "# data_aug = data_aug.add_datetime_attribute(\"dayofweek\")\n",
    "# data_aug = data_aug.add_holidays(\"US\")\n",
    "\n",
    "# # encoder.encode_train(data)[1][:50].plot()\n",
    "past_covariates_train[0][:10].plot()"
   ]
  },
  {
   "cell_type": "code",
   "execution_count": 236,
   "id": "06211781-5477-4792-8af8-6014174e5ea0",
   "metadata": {},
   "outputs": [
    {
     "data": {
      "text/plain": [
       "<Axes: xlabel='DATE'>"
      ]
     },
     "execution_count": 236,
     "metadata": {},
     "output_type": "execute_result"
    },
    {
     "data": {
      "image/png": "[encoded data removed]",
      "text/plain": [
       "<Figure size 640x480 with 1 Axes>"
      ]
     },
     "metadata": {},
     "output_type": "display_data"
    }
   ],
   "source": [
    "data[10][:100].plot()"
   ]
  },
  {
   "cell_type": "code",
   "execution_count": 177,
   "id": "99ab3836-fc34-468a-a7eb-b41511b65d25",
   "metadata": {},
   "outputs": [],
   "source": [
    "from dataclasses import dataclass, field\n",
    "from typing import Optional\n",
    "\n",
    "from darts.models import (\n",
    "    TransformerModel\n",
    ")\n",
    "\n",
    "@dataclass\n",
    "class Model:\n",
    "    model: DatasetLoader\n",
    "    params: dict = field(default_factory=dict)\n",
    "\n",
    "\n",
    "model_map = {\n",
    "    'transformer': Model(\n",
    "        model=TransformerModel,\n",
    "        params={\n",
    "            'input_chunk_length': None,\n",
    "            'output_chunk_length': None,\n",
    "            'd_model': 64,\n",
    "            'nhead': 4,\n",
    "            'num_encoder_layers': 3,\n",
    "            'num_decoder_layers': 3,\n",
    "            'dim_feedforward': 512,\n",
    "            'dropout': 0.1,\n",
    "            'activation': 'relu',\n",
    "            'norm_type': None\n",
    "        }\n",
    "    ),\n",
    "}\n",
    "\n",
    "def update_dict_A_with_B(A, B):\n",
    "    for key in B:\n",
    "        if key in A:\n",
    "            A[key] = B[key]\n",
    "    return A\n",
    "\n",
    "def add_selected_to_A(A, B, selected):\n",
    "    for key in selected:\n",
    "        if key in B:\n",
    "            A[key] = B[key]\n",
    "    return A\n",
    "\n",
    "def get_model(args):\n",
    "    model_meta = model_map[args['model']]\n",
    "\n",
    "    params = update_dict_A_with_B(model_meta.params, args)\n",
    "    params = add_selected_to_A(params, args, ['batch_size', 'n_epochs', 'work_dir', 'log_tensorboard', 'add_encoders', 'pl_trainer_kwargs'])\n",
    "    \n",
    "    \n",
    "    model = model_meta.model(**params)\n",
    "\n",
    "    return model"
   ]
  },
  {
   "cell_type": "code",
   "execution_count": 179,
   "id": "f9db00af-23a7-41d0-8aa8-1a8e9efcb25f",
   "metadata": {},
   "outputs": [
    {
     "data": {
      "text/plain": [
       "TransformerModel(d_model=64, nhead=4, num_encoder_layers=3, num_decoder_layers=3, dim_feedforward=512, dropout=0.1, activation=relu, norm_type=None, custom_encoder=None, custom_decoder=None, input_chunk_length=24, output_chunk_length=12, batch_size=10)"
      ]
     },
     "execution_count": 179,
     "metadata": {},
     "output_type": "execute_result"
    }
   ],
   "source": [
    "import os\n",
    "\n",
    "os.environ[\"CUDA_DEVICE_ORDER\"]=\"PCI_BUS_ID\"\n",
    "os.environ[\"CUDA_VISIBLE_DEVICES\"]=\"0\"\n",
    "\n",
    "get_model({'model': 'transformer', 'input_chunk_length': 24,\n",
    "            'output_chunk_length': 12, 'batch_size': 10})"
   ]
  },
  {
   "cell_type": "code",
   "execution_count": 241,
   "id": "246af42d-9012-4d0b-b4d7-6ae4b035d4a4",
   "metadata": {},
   "outputs": [],
   "source": [
    "import torch\n",
    "import torch.nn as nn\n",
    "import torch.optim as optim\n",
    "import numpy as np\n",
    "import pandas as pd\n",
    "import shutil\n",
    "from sklearn.preprocessing import MinMaxScaler\n",
    "from tqdm import tqdm_notebook as tqdm\n",
    "\n",
    "from tensorboardX import SummaryWriter\n",
    "import matplotlib.pyplot as plt\n",
    "\n",
    "from darts import TimeSeries\n",
    "from darts.dataprocessing.transformers import Scaler\n",
    "from darts.models import TransformerModel, ExponentialSmoothing\n",
    "from darts.metrics import mape\n",
    "from darts.utils.statistics import check_seasonality, plot_acf\n",
    "from darts.datasets import AirPassengersDataset, SunspotsDataset\n",
    "\n",
    "import os\n",
    "os.environ[\"CUDA_DEVICE_ORDER\"]=\"PCI_BUS_ID\"\n",
    "os.environ[\"CUDA_VISIBLE_DEVICES\"]=\"1\"\n",
    "\n",
    "# import warnings\n",
    "\n",
    "# warnings.filterwarnings(\"ignore\")\n",
    "# import logging\n",
    "\n",
    "# logging.disable(logging.CRITICAL)"
   ]
  },
  {
   "cell_type": "code",
   "execution_count": 237,
   "id": "50a1cfd5-2c36-4919-a1d9-d04f87540e1c",
   "metadata": {},
   "outputs": [],
   "source": [
    "# Read data:\n",
    "series = AirPassengersDataset().load().astype(np.float32)\n",
    "\n",
    "# Create training and validation sets:\n",
    "train, val = series.split_after(pd.Timestamp(\"19590101\"))\n",
    "\n",
    "# Normalize the time series (note: we avoid fitting the transformer on the validation set)\n",
    "# Change name\n",
    "scaler = Scaler()\n",
    "train_scaled = scaler.fit_transform(train)\n",
    "val_scaled = scaler.transform(val)\n",
    "series_scaled = scaler.transform(series)"
   ]
  },
  {
   "cell_type": "code",
   "execution_count": 337,
   "id": "d7a2dd8a-9a51-4432-8f73-12d0ff0db760",
   "metadata": {},
   "outputs": [],
   "source": [
    "def split(data, splits: list):\n",
    "    last_split = 0\n",
    "    relative_splits = []\n",
    "    for s in splits:\n",
    "        relative_splits.append((s - last_split) / (1 - last_split))\n",
    "        last_split = s\n",
    "\n",
    "    split_data = [[] for _ in range(len(splits) + 1)]\n",
    "    for d in data:\n",
    "        right = d\n",
    "        for i, s in enumerate(relative_splits):\n",
    "            left, right = right.split_after(s)\n",
    "            split_data[i].append(left)\n",
    "        split_data[-1].append(right)\n",
    "\n",
    "    return split_data"
   ]
  },
  {
   "cell_type": "code",
   "execution_count": 336,
   "id": "daaae8a2-ebdd-472f-8f69-49cf2d3714f2",
   "metadata": {},
   "outputs": [
    {
     "data": {
      "text/plain": [
       "[[48, 48], [96, 96]]"
      ]
     },
     "execution_count": 336,
     "metadata": {},
     "output_type": "execute_result"
    }
   ],
   "source": [
    "split([series, series], [0.33333])"
   ]
  },
  {
   "cell_type": "code",
   "execution_count": 238,
   "id": "9802fdd1-581d-4b7e-b1f8-1c5494af9d3a",
   "metadata": {},
   "outputs": [],
   "source": [
    "transformer_model = TransformerModel(\n",
    "    input_chunk_length=12,\n",
    "    output_chunk_length=1,\n",
    "    batch_size=32,\n",
    "    n_epochs=200,\n",
    "    model_name=\"air_transformer\",\n",
    "    nr_epochs_val_period=10,\n",
    "    d_model=16,\n",
    "    nhead=8,\n",
    "    num_encoder_layers=2,\n",
    "    num_decoder_layers=2,\n",
    "    dim_feedforward=128,\n",
    "    dropout=0.1,\n",
    "    activation=\"relu\",\n",
    "    random_state=42,\n",
    "    save_checkpoints=True,\n",
    "    force_reset=True,\n",
    "    pl_trainer_kwargs={\"accelerator\": \"auto\"},\n",
    ")"
   ]
  },
  {
   "cell_type": "code",
   "execution_count": 239,
   "id": "69d2c8df-a9c6-49e7-a478-93bcac8e9458",
   "metadata": {},
   "outputs": [
    {
     "name": "stderr",
     "output_type": "stream",
     "text": [
      "GPU available: True (cuda), used: True\n",
      "TPU available: False, using: 0 TPU cores\n",
      "IPU available: False, using: 0 IPUs\n",
      "HPU available: False, using: 0 HPUs\n",
      "LOCAL_RANK: 0 - CUDA_VISIBLE_DEVICES: [0]\n",
      "\n",
      "  | Name                | Type                | Params\n",
      "------------------------------------------------------------\n",
      "0 | criterion           | MSELoss             | 0     \n",
      "1 | train_metrics       | MetricCollection    | 0     \n",
      "2 | val_metrics         | MetricCollection    | 0     \n",
      "3 | encoder             | Linear              | 32    \n",
      "4 | positional_encoding | _PositionalEncoding | 0     \n",
      "5 | transformer         | Transformer         | 23.9 K\n",
      "6 | decoder             | Linear              | 17    \n",
      "------------------------------------------------------------\n",
      "23.9 K    Trainable params\n",
      "0         Non-trainable params\n",
      "23.9 K    Total params\n",
      "0.096     Total estimated model params size (MB)\n"
     ]
    },
    {
     "data": {
      "application/vnd.jupyter.widget-view+json": {
       "model_id": "",
       "version_major": 2,
       "version_minor": 0
      },
      "text/plain": [
       "Sanity Checking: |                                                                      | 0/? [00:00<?, ?it/s]"
      ]
     },
     "metadata": {},
     "output_type": "display_data"
    },
    {
     "data": {
      "application/vnd.jupyter.widget-view+json": {
       "model_id": "9b17f47fd6fb44ef9fe1c9b36fa2dd94",
       "version_major": 2,
       "version_minor": 0
      },
      "text/plain": [
       "Training: |                                                                             | 0/? [00:00<?, ?it/s]"
      ]
     },
     "metadata": {},
     "output_type": "display_data"
    },
    {
     "data": {
      "application/vnd.jupyter.widget-view+json": {
       "model_id": "",
       "version_major": 2,
       "version_minor": 0
      },
      "text/plain": [
       "Validation: |                                                                           | 0/? [00:00<?, ?it/s]"
      ]
     },
     "metadata": {},
     "output_type": "display_data"
    },
    {
     "data": {
      "application/vnd.jupyter.widget-view+json": {
       "model_id": "",
       "version_major": 2,
       "version_minor": 0
      },
      "text/plain": [
       "Validation: |                                                                           | 0/? [00:00<?, ?it/s]"
      ]
     },
     "metadata": {},
     "output_type": "display_data"
    },
    {
     "data": {
      "application/vnd.jupyter.widget-view+json": {
       "model_id": "",
       "version_major": 2,
       "version_minor": 0
      },
      "text/plain": [
       "Validation: |                                                                           | 0/? [00:00<?, ?it/s]"
      ]
     },
     "metadata": {},
     "output_type": "display_data"
    },
    {
     "data": {
      "application/vnd.jupyter.widget-view+json": {
       "model_id": "",
       "version_major": 2,
       "version_minor": 0
      },
      "text/plain": [
       "Validation: |                                                                           | 0/? [00:00<?, ?it/s]"
      ]
     },
     "metadata": {},
     "output_type": "display_data"
    },
    {
     "data": {
      "application/vnd.jupyter.widget-view+json": {
       "model_id": "",
       "version_major": 2,
       "version_minor": 0
      },
      "text/plain": [
       "Validation: |                                                                           | 0/? [00:00<?, ?it/s]"
      ]
     },
     "metadata": {},
     "output_type": "display_data"
    },
    {
     "data": {
      "application/vnd.jupyter.widget-view+json": {
       "model_id": "",
       "version_major": 2,
       "version_minor": 0
      },
      "text/plain": [
       "Validation: |                                                                           | 0/? [00:00<?, ?it/s]"
      ]
     },
     "metadata": {},
     "output_type": "display_data"
    },
    {
     "data": {
      "application/vnd.jupyter.widget-view+json": {
       "model_id": "",
       "version_major": 2,
       "version_minor": 0
      },
      "text/plain": [
       "Validation: |                                                                           | 0/? [00:00<?, ?it/s]"
      ]
     },
     "metadata": {},
     "output_type": "display_data"
    },
    {
     "data": {
      "application/vnd.jupyter.widget-view+json": {
       "model_id": "",
       "version_major": 2,
       "version_minor": 0
      },
      "text/plain": [
       "Validation: |                                                                           | 0/? [00:00<?, ?it/s]"
      ]
     },
     "metadata": {},
     "output_type": "display_data"
    },
    {
     "data": {
      "application/vnd.jupyter.widget-view+json": {
       "model_id": "",
       "version_major": 2,
       "version_minor": 0
      },
      "text/plain": [
       "Validation: |                                                                           | 0/? [00:00<?, ?it/s]"
      ]
     },
     "metadata": {},
     "output_type": "display_data"
    },
    {
     "data": {
      "application/vnd.jupyter.widget-view+json": {
       "model_id": "",
       "version_major": 2,
       "version_minor": 0
      },
      "text/plain": [
       "Validation: |                                                                           | 0/? [00:00<?, ?it/s]"
      ]
     },
     "metadata": {},
     "output_type": "display_data"
    },
    {
     "data": {
      "application/vnd.jupyter.widget-view+json": {
       "model_id": "",
       "version_major": 2,
       "version_minor": 0
      },
      "text/plain": [
       "Validation: |                                                                           | 0/? [00:00<?, ?it/s]"
      ]
     },
     "metadata": {},
     "output_type": "display_data"
    },
    {
     "data": {
      "application/vnd.jupyter.widget-view+json": {
       "model_id": "",
       "version_major": 2,
       "version_minor": 0
      },
      "text/plain": [
       "Validation: |                                                                           | 0/? [00:00<?, ?it/s]"
      ]
     },
     "metadata": {},
     "output_type": "display_data"
    },
    {
     "data": {
      "application/vnd.jupyter.widget-view+json": {
       "model_id": "",
       "version_major": 2,
       "version_minor": 0
      },
      "text/plain": [
       "Validation: |                                                                           | 0/? [00:00<?, ?it/s]"
      ]
     },
     "metadata": {},
     "output_type": "display_data"
    },
    {
     "data": {
      "application/vnd.jupyter.widget-view+json": {
       "model_id": "",
       "version_major": 2,
       "version_minor": 0
      },
      "text/plain": [
       "Validation: |                                                                           | 0/? [00:00<?, ?it/s]"
      ]
     },
     "metadata": {},
     "output_type": "display_data"
    },
    {
     "data": {
      "application/vnd.jupyter.widget-view+json": {
       "model_id": "",
       "version_major": 2,
       "version_minor": 0
      },
      "text/plain": [
       "Validation: |                                                                           | 0/? [00:00<?, ?it/s]"
      ]
     },
     "metadata": {},
     "output_type": "display_data"
    },
    {
     "data": {
      "application/vnd.jupyter.widget-view+json": {
       "model_id": "",
       "version_major": 2,
       "version_minor": 0
      },
      "text/plain": [
       "Validation: |                                                                           | 0/? [00:00<?, ?it/s]"
      ]
     },
     "metadata": {},
     "output_type": "display_data"
    },
    {
     "data": {
      "application/vnd.jupyter.widget-view+json": {
       "model_id": "",
       "version_major": 2,
       "version_minor": 0
      },
      "text/plain": [
       "Validation: |                                                                           | 0/? [00:00<?, ?it/s]"
      ]
     },
     "metadata": {},
     "output_type": "display_data"
    },
    {
     "data": {
      "application/vnd.jupyter.widget-view+json": {
       "model_id": "",
       "version_major": 2,
       "version_minor": 0
      },
      "text/plain": [
       "Validation: |                                                                           | 0/? [00:00<?, ?it/s]"
      ]
     },
     "metadata": {},
     "output_type": "display_data"
    },
    {
     "data": {
      "application/vnd.jupyter.widget-view+json": {
       "model_id": "",
       "version_major": 2,
       "version_minor": 0
      },
      "text/plain": [
       "Validation: |                                                                           | 0/? [00:00<?, ?it/s]"
      ]
     },
     "metadata": {},
     "output_type": "display_data"
    },
    {
     "data": {
      "application/vnd.jupyter.widget-view+json": {
       "model_id": "",
       "version_major": 2,
       "version_minor": 0
      },
      "text/plain": [
       "Validation: |                                                                           | 0/? [00:00<?, ?it/s]"
      ]
     },
     "metadata": {},
     "output_type": "display_data"
    },
    {
     "name": "stderr",
     "output_type": "stream",
     "text": [
      "`Trainer.fit` stopped: `max_epochs=200` reached.\n"
     ]
    },
    {
     "data": {
      "text/plain": [
       "TransformerModel(d_model=16, nhead=8, num_encoder_layers=2, num_decoder_layers=2, dim_feedforward=128, dropout=0.1, activation=relu, norm_type=None, custom_encoder=None, custom_decoder=None, input_chunk_length=12, output_chunk_length=1, batch_size=32, n_epochs=200, model_name=air_transformer, nr_epochs_val_period=10, random_state=42, save_checkpoints=True, force_reset=True, pl_trainer_kwargs={'accelerator': 'auto'})"
      ]
     },
     "execution_count": 239,
     "metadata": {},
     "output_type": "execute_result"
    }
   ],
   "source": [
    "transformer_model.fit(series=train_scaled, val_series=val_scaled, verbose=True)"
   ]
  },
  {
   "cell_type": "code",
   "execution_count": 284,
   "id": "167c0592-4fdb-4fab-acfc-d4012cd5eb01",
   "metadata": {},
   "outputs": [
    {
     "name": "stdout",
     "output_type": "stream",
     "text": [
      "TransformerModel(nhead=8, num_encoder_layers=2, num_decoder_layers=2, dim_feedforward=128, input_chunk_length=12, output_chunk_length=1, batch_size=64, n_epochs=100, work_dir=./checkpoints/, model_name=transformer_airpassenger, log_tensorboard=True, add_encoders={'cyclic': {'past': ['month']}, 'datetime_attribute': {'past': ['year']}}, pl_trainer_kwargs={'accelerator': 'gpu', 'devices': [9]})\n"
     ]
    }
   ],
   "source": [
    "print(\"TransformerModel(nhead=8, num_encoder_layers=2, num_decoder_layers=2, dim_feedforward=128, input_chunk_length=12, output_chunk_length=1, batch_size=64, n_epochs=100, work_dir=./checkpoints/, model_name=transformer_airpassenger, log_tensorboard=True, add_encoders={'cyclic': {'past': ['month']}, 'datetime_attribute': {'past': ['year']}}, pl_trainer_kwargs={'accelerator': 'gpu', 'devices': [9]})\")"
   ]
  },
  {
   "cell_type": "code",
   "execution_count": 242,
   "id": "a11fe4d3-4d5a-4ba8-9fac-bdb73f07198e",
   "metadata": {},
   "outputs": [
    {
     "name": "stderr",
     "output_type": "stream",
     "text": [
      "GPU available: True (cuda), used: True\n",
      "TPU available: False, using: 0 TPU cores\n",
      "IPU available: False, using: 0 IPUs\n",
      "HPU available: False, using: 0 HPUs\n",
      "LOCAL_RANK: 0 - CUDA_VISIBLE_DEVICES: [1]\n"
     ]
    },
    {
     "data": {
      "application/vnd.jupyter.widget-view+json": {
       "model_id": "b1b99dd3b05d44898fbbe0e15faefb96",
       "version_major": 2,
       "version_minor": 0
      },
      "text/plain": [
       "Predicting: |                                                                           | 0/? [00:00<?, ?it/s]"
      ]
     },
     "metadata": {},
     "output_type": "display_data"
    },
    {
     "data": {
      "image/png": "[encoded data removed]",
      "text/plain": [
       "<Figure size 800x500 with 1 Axes>"
      ]
     },
     "metadata": {},
     "output_type": "display_data"
    }
   ],
   "source": [
    "# this function evaluates a model on a given validation set for n time-steps\n",
    "def eval_model(model, n, series, val_series):\n",
    "    pred_series = model.predict(n=n)\n",
    "    plt.figure(figsize=(8, 5))\n",
    "    series.plot(label=\"actual\")\n",
    "    pred_series.plot(label=\"forecast\")\n",
    "    plt.title(\"MAPE: {:.2f}%\".format(mape(pred_series, val_series)))\n",
    "    plt.legend()\n",
    "\n",
    "\n",
    "eval_model(transformer_model, 26, series_scaled, val_scaled)"
   ]
  },
  {
   "cell_type": "code",
   "execution_count": 243,
   "id": "f60da9d6-03a0-4ea2-9b21-dae8dd0f098f",
   "metadata": {},
   "outputs": [
    {
     "name": "stderr",
     "output_type": "stream",
     "text": [
      "GPU available: True (cuda), used: True\n",
      "TPU available: False, using: 0 TPU cores\n",
      "IPU available: False, using: 0 IPUs\n",
      "HPU available: False, using: 0 HPUs\n",
      "LOCAL_RANK: 0 - CUDA_VISIBLE_DEVICES: [1]\n"
     ]
    },
    {
     "data": {
      "application/vnd.jupyter.widget-view+json": {
       "model_id": "3f0b0486d9b14c708c977a0c7ee3a0bf",
       "version_major": 2,
       "version_minor": 0
      },
      "text/plain": [
       "Predicting: |                                                                           | 0/? [00:00<?, ?it/s]"
      ]
     },
     "metadata": {},
     "output_type": "display_data"
    },
    {
     "data": {
      "image/png": "[encoded data removed]",
      "text/plain": [
       "<Figure size 800x500 with 1 Axes>"
      ]
     },
     "metadata": {},
     "output_type": "display_data"
    }
   ],
   "source": [
    "best_model = TransformerModel.load_from_checkpoint(\n",
    "    model_name=\"air_transformer\", best=True\n",
    ")\n",
    "eval_model(transformer_model, 26, series_scaled, val_scaled)"
   ]
  }
 ],
 "metadata": {
  "kernelspec": {
   "display_name": "Python 3 (ipykernel)",
   "language": "python",
   "name": "python3"
  },
  "language_info": {
   "codemirror_mode": {
    "name": "ipython",
    "version": 3
   },
   "file_extension": ".py",
   "mimetype": "text/x-python",
   "name": "python",
   "nbconvert_exporter": "python",
   "pygments_lexer": "ipython3",
   "version": "3.9.18"
  }
 },
 "nbformat": 4,
 "nbformat_minor": 5
}
